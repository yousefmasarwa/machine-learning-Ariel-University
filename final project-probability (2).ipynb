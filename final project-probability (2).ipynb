{
 "cells": [
  {
   "cell_type": "code",
   "execution_count": 5,
   "metadata": {
    "scrolled": true
   },
   "outputs": [
    {
     "name": "stdout",
     "output_type": "stream",
     "text": [
      "PART 1\n",
      "Q1-A\n",
      "answer=5/17\n"
     ]
    }
   ],
   "source": [
    "print(\"PART 1\")\n",
    "print('Q1-A')\n",
    "#identical twins=1/300\n",
    "#not identical twins=1/125\n",
    "#ans=((1/300)/(1/125))\n",
    "print(\"answer=5/17\")\n"
   ]
  },
  {
   "cell_type": "code",
   "execution_count": 11,
   "metadata": {},
   "outputs": [
    {
     "name": "stdout",
     "output_type": "stream",
     "text": [
      "Q1-B\n",
      "according to bayes\n",
      "answer = 0.6\n"
     ]
    }
   ],
   "source": [
    "print(\"Q1-B\")\n",
    "#first bowl->10 cookies of almond && 30 cookies of chocolate\n",
    "#first bowl->(1/4 almonds && 3/4 chocolate)\n",
    "#second bowl->20 cookies of almond && 20 cookies of chocolate\n",
    "#second bowl->(1/2 almonds && 1/2 chocalate)\n",
    "print(\"according to bayes\")\n",
    "#ans=((2/4)*(3/4))/((2/4)*(3/4)+(1/2)*(1/2))\n",
    "print(\"answer =\",((2/4)*(3/4))/((2/4)*(3/4)+(1/2)*(1/2)))"
   ]
  },
  {
   "cell_type": "code",
   "execution_count": 12,
   "metadata": {},
   "outputs": [
    {
     "name": "stdout",
     "output_type": "stream",
     "text": [
      "Q2\n",
      "0.020000000000000004\n",
      "0.027000000000000003\n",
      "answer = 0.7407407407407408\n"
     ]
    }
   ],
   "source": [
    "print(\"Q2\")\n",
    "#we have two bags->1/2\n",
    "#one from 1994 and the other from 1996\n",
    "#ans=((1/2)*(2/10)*(2/10))/((1/2)*(2/10)*(2/10)+(1/2)*(1/10)*(14/100))\n",
    "print((1/2)*(2/10)*(2/10))\n",
    "print((1/2)*(2/10)*(2/10)+(1/2)*(1/10)*(14/100))\n",
    "print(\"answer =\",0.020000000000000004/0.027000000000000003)"
   ]
  },
  {
   "cell_type": "code",
   "execution_count": 18,
   "metadata": {},
   "outputs": [
    {
     "name": "stdout",
     "output_type": "stream",
     "text": [
      "Q3-1\n",
      "according to bayes\n",
      "answer = 0.009901970492127933\n"
     ]
    }
   ],
   "source": [
    "print(\"Q3-1\")\n",
    "#according to the statics->the probabilty to have the disease is 1/10000,so the probabilty not\n",
    "#having it is 9999/10000\n",
    "#the probability to false positive is 1%\n",
    "#the probability to false negative is 0%\n",
    "print(\"according to bayes\")\n",
    "#ans=(1*(1/10000))/((1/100)*(9999/10000)+(1/10000))\n",
    "print(\"answer =\",(1*(1/10000))/((1/100)*(9999/10000)+(1/10000)))"
   ]
  },
  {
   "cell_type": "code",
   "execution_count": 19,
   "metadata": {},
   "outputs": [
    {
     "name": "stdout",
     "output_type": "stream",
     "text": [
      "Q3-2\n",
      "answer = 0.33444816053511706\n"
     ]
    }
   ],
   "source": [
    "print(\"Q3-2\")\n",
    "#ans=(1*(1/200))/((1/100)*(199/200)+(1/200))\n",
    "print(\"answer =\",(1*(1/200))/((1/100)*(199/200)+(1/200)))"
   ]
  },
  {
   "cell_type": "code",
   "execution_count": 2,
   "metadata": {},
   "outputs": [
    {
     "name": "stdout",
     "output_type": "stream",
     "text": [
      "PART 2\n",
      "Random Variables\n",
      "Q1\n",
      "answer = 0.0\n"
     ]
    }
   ],
   "source": [
    "print(\"PART 2\")\n",
    "print(\"Random Variables\")\n",
    "print(\"Q1\")\n",
    "#whole the numbers that is divisible by 3 are=3,6,9,12\n",
    "#the probability to get sum=3 is:2/36\n",
    "#the probability to get sum=6 is:5/36\n",
    "#the probability to get sum=9 is:4/36\n",
    "#the probability to get sum=12 is:1/36\n",
    "#(2/36)+(5/36)+(4/36)+(1/36)=12/36=1/3\n",
    "print(\"answer =\",(1/3)*6+(2/3)*-3)"
   ]
  },
  {
   "cell_type": "code",
   "execution_count": 3,
   "metadata": {},
   "outputs": [
    {
     "name": "stdout",
     "output_type": "stream",
     "text": [
      "Q2\n",
      "answer = -2.3999999999999995\n"
     ]
    }
   ],
   "source": [
    "print(\"Q2\")\n",
    "#the probability to get a sum higher than 12 is->6/25\n",
    "#the probabilit to get a sum=12 is->4/25\n",
    "#the probability to get a sum lower than 12 is->15/25\n",
    "#ans=E(X)=∑P(X)*x\n",
    "#ans=(4/25)*0+(6/25)*5+(15/25)*-6\n",
    "print(\"answer =\",(4/25)*0+(6/25)*5+(15/25)*-6)"
   ]
  },
  {
   "cell_type": "code",
   "execution_count": 5,
   "metadata": {},
   "outputs": [
    {
     "name": "stdout",
     "output_type": "stream",
     "text": [
      "Q3\n",
      "mean = 3.2\n",
      "std = 1.3856406460551018\n"
     ]
    }
   ],
   "source": [
    "print('Q3')\n",
    "import math\n",
    "#mean=8*0.4\n",
    "print(\"mean =\",8*0.4)\n",
    "#std=square root of(8*0.4*0.6)\n",
    "print(\"std =\",math.sqrt(8*0.4*0.6))"
   ]
  },
  {
   "cell_type": "code",
   "execution_count": 6,
   "metadata": {},
   "outputs": [
    {
     "name": "stdout",
     "output_type": "stream",
     "text": [
      "Q4\n",
      "answer = 47.7 %\n"
     ]
    }
   ],
   "source": [
    "print(\"Q4\")\n",
    "#26<x<30=2 std\n",
    "#in normal distribution 2 std =13.6%+34.1%\n",
    "print(\"answer =\",13.6+34.1,\"%\")"
   ]
  },
  {
   "cell_type": "code",
   "execution_count": 7,
   "metadata": {},
   "outputs": [
    {
     "name": "stdout",
     "output_type": "stream",
     "text": [
      "Q5\n",
      "answer = 0.4\n"
     ]
    }
   ],
   "source": [
    "print(\"Q5\")\n",
    "#x>3-->5-3=2\n",
    "#ans=(2*0.4)/2=0.4\n",
    "print(\"answer =\",(2*0.4)/2)"
   ]
  },
  {
   "cell_type": "code",
   "execution_count": 1,
   "metadata": {},
   "outputs": [
    {
     "name": "stdout",
     "output_type": "stream",
     "text": [
      "Q6\n",
      "answer= 0.03456\n"
     ]
    }
   ],
   "source": [
    "print(\"Q6\")\n",
    "#ans=(300/500)</em>(299/499)</em>(200/498)</em>(298/497)*4\n",
    "print(\"answer=\",0.03456)"
   ]
  },
  {
   "cell_type": "code",
   "execution_count": 9,
   "metadata": {},
   "outputs": [
    {
     "name": "stdout",
     "output_type": "stream",
     "text": [
      "Q7\n",
      "answer = 0.0\n"
     ]
    }
   ],
   "source": [
    "print(\"Q7\")\n",
    "#E(X)=∑P(X)*x\n",
    "#0.1-->-10\n",
    "#0.35-->-5\n",
    "#0.1-->0\n",
    "#0.35-->5\n",
    "#0.1-->10\n",
    "print(\"answer =\",(0.1*-10)+(0.35*-5)+(0.1*0)+(0.35*5)+(0.1*10))"
   ]
  },
  {
   "cell_type": "code",
   "execution_count": null,
   "metadata": {},
   "outputs": [],
   "source": []
  }
 ],
 "metadata": {
  "kernelspec": {
   "display_name": "Python 3",
   "language": "python",
   "name": "python3"
  },
  "language_info": {
   "codemirror_mode": {
    "name": "ipython",
    "version": 3
   },
   "file_extension": ".py",
   "mimetype": "text/x-python",
   "name": "python",
   "nbconvert_exporter": "python",
   "pygments_lexer": "ipython3",
   "version": "3.8.3"
  }
 },
 "nbformat": 4,
 "nbformat_minor": 4
}
